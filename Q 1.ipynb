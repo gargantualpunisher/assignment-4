{
 "cells": [
  {
   "cell_type": "code",
   "execution_count": 17,
   "id": "4b42e9db",
   "metadata": {},
   "outputs": [],
   "source": [
    "import selenium\n",
    "import pandas as pd\n",
    "from selenium import webdriver\n",
    "import warnings\n",
    "warnings.filterwarnings('ignore')\n",
    "from selenium.common.exceptions import StaleElementReferenceException, NoSuchElementException\n",
    "from selenium.webdriver.common.by import By\n",
    "import time\n",
    "from selenium.webdriver.chrome.service import Service\n",
    "import re"
   ]
  },
  {
   "cell_type": "code",
   "execution_count": 18,
   "id": "3371736f",
   "metadata": {},
   "outputs": [],
   "source": [
    "drivers = webdriver.Chrome(r\"E:\\New folder\\chromedriver_win32\\chromedriver.exe\")\n",
    "\n",
    "drivers.get('https://en.wikipedia.org/wiki/List_of_most-viewed_YouTube_videos')"
   ]
  },
  {
   "cell_type": "code",
   "execution_count": 19,
   "id": "3281d1b7",
   "metadata": {},
   "outputs": [],
   "source": [
    "TOTAL=[]\n",
    "\n",
    "total = drivers.find_elements(By.TAG_NAME, \"tr\")"
   ]
  },
  {
   "cell_type": "code",
   "execution_count": 21,
   "id": "de97b88f",
   "metadata": {},
   "outputs": [
    {
     "data": {
      "text/plain": [
       "[<selenium.webdriver.remote.webelement.WebElement (session=\"e7809e7e67e38375d1819d4244951d85\", element=\"a598ad97-1db4-47d5-a842-fbbc0cd877bc\")>,\n",
       " <selenium.webdriver.remote.webelement.WebElement (session=\"e7809e7e67e38375d1819d4244951d85\", element=\"34089bf1-3fac-4ef6-b11f-d5bd5e90df6e\")>,\n",
       " <selenium.webdriver.remote.webelement.WebElement (session=\"e7809e7e67e38375d1819d4244951d85\", element=\"4210f732-18c6-4b36-8a8e-65e1bd40a56e\")>,\n",
       " <selenium.webdriver.remote.webelement.WebElement (session=\"e7809e7e67e38375d1819d4244951d85\", element=\"cc2d2fc2-fc3a-4d3f-96c8-089a7cef8c02\")>,\n",
       " <selenium.webdriver.remote.webelement.WebElement (session=\"e7809e7e67e38375d1819d4244951d85\", element=\"cdd42592-4529-40a4-b385-74a1e8ffe1a7\")>,\n",
       " <selenium.webdriver.remote.webelement.WebElement (session=\"e7809e7e67e38375d1819d4244951d85\", element=\"8c32385c-3a7b-4825-bfb9-26137e2ee6b2\")>,\n",
       " <selenium.webdriver.remote.webelement.WebElement (session=\"e7809e7e67e38375d1819d4244951d85\", element=\"d4ebfa01-f6c0-4273-949b-ffed5402840e\")>,\n",
       " <selenium.webdriver.remote.webelement.WebElement (session=\"e7809e7e67e38375d1819d4244951d85\", element=\"b39c5ba9-d962-429d-a2af-d35014e88f23\")>,\n",
       " <selenium.webdriver.remote.webelement.WebElement (session=\"e7809e7e67e38375d1819d4244951d85\", element=\"e25d9752-9457-442b-b9e9-2f118fe91265\")>,\n",
       " <selenium.webdriver.remote.webelement.WebElement (session=\"e7809e7e67e38375d1819d4244951d85\", element=\"0b5d904e-e66e-4402-8d19-8dab2f7f620f\")>,\n",
       " <selenium.webdriver.remote.webelement.WebElement (session=\"e7809e7e67e38375d1819d4244951d85\", element=\"a3936c6e-03e7-4b29-a95e-cd9185e0df1e\")>,\n",
       " <selenium.webdriver.remote.webelement.WebElement (session=\"e7809e7e67e38375d1819d4244951d85\", element=\"6d3cbf94-20bf-4cbf-8ae1-3b6bc67910b8\")>,\n",
       " <selenium.webdriver.remote.webelement.WebElement (session=\"e7809e7e67e38375d1819d4244951d85\", element=\"360e9621-3d59-48e9-afdd-01c1faca9084\")>,\n",
       " <selenium.webdriver.remote.webelement.WebElement (session=\"e7809e7e67e38375d1819d4244951d85\", element=\"077f967c-93dd-4145-ac3e-565273af0018\")>,\n",
       " <selenium.webdriver.remote.webelement.WebElement (session=\"e7809e7e67e38375d1819d4244951d85\", element=\"99a663c3-6be7-473f-a59e-eae78e1e0e24\")>,\n",
       " <selenium.webdriver.remote.webelement.WebElement (session=\"e7809e7e67e38375d1819d4244951d85\", element=\"e1696443-8dbe-4daf-aae0-39fef2828b89\")>,\n",
       " <selenium.webdriver.remote.webelement.WebElement (session=\"e7809e7e67e38375d1819d4244951d85\", element=\"4ae54418-f584-4168-83f5-47b0d2b66034\")>,\n",
       " <selenium.webdriver.remote.webelement.WebElement (session=\"e7809e7e67e38375d1819d4244951d85\", element=\"3888c011-4f44-41a4-8f75-b74a023635b5\")>,\n",
       " <selenium.webdriver.remote.webelement.WebElement (session=\"e7809e7e67e38375d1819d4244951d85\", element=\"d69c80c0-fbfb-47fa-8889-e6f20bee4694\")>,\n",
       " <selenium.webdriver.remote.webelement.WebElement (session=\"e7809e7e67e38375d1819d4244951d85\", element=\"4be09bb7-6119-4520-b665-35cac634642e\")>,\n",
       " <selenium.webdriver.remote.webelement.WebElement (session=\"e7809e7e67e38375d1819d4244951d85\", element=\"8acf2f13-bdf8-4b0a-a2f0-3b28afc947b8\")>,\n",
       " <selenium.webdriver.remote.webelement.WebElement (session=\"e7809e7e67e38375d1819d4244951d85\", element=\"d9623ad8-9f1b-42ad-aa16-5421431e56dc\")>,\n",
       " <selenium.webdriver.remote.webelement.WebElement (session=\"e7809e7e67e38375d1819d4244951d85\", element=\"0e8e34e6-c3e1-4909-ae49-5334d3a5e7ff\")>,\n",
       " <selenium.webdriver.remote.webelement.WebElement (session=\"e7809e7e67e38375d1819d4244951d85\", element=\"80b2b672-25bf-413c-8901-c8d589f69d3b\")>,\n",
       " <selenium.webdriver.remote.webelement.WebElement (session=\"e7809e7e67e38375d1819d4244951d85\", element=\"d3e46bf2-fb60-44d4-840a-f1c30d129dc0\")>,\n",
       " <selenium.webdriver.remote.webelement.WebElement (session=\"e7809e7e67e38375d1819d4244951d85\", element=\"9f698b5e-f7e3-4694-aae8-52611bb3afd0\")>,\n",
       " <selenium.webdriver.remote.webelement.WebElement (session=\"e7809e7e67e38375d1819d4244951d85\", element=\"b2aab638-2df5-4b1b-833e-e5d87dce6fbe\")>,\n",
       " <selenium.webdriver.remote.webelement.WebElement (session=\"e7809e7e67e38375d1819d4244951d85\", element=\"5c97c630-640b-46c3-ba8e-d73fc84c9539\")>,\n",
       " <selenium.webdriver.remote.webelement.WebElement (session=\"e7809e7e67e38375d1819d4244951d85\", element=\"906e6463-901a-4d33-a348-1cd9f4011283\")>,\n",
       " <selenium.webdriver.remote.webelement.WebElement (session=\"e7809e7e67e38375d1819d4244951d85\", element=\"f5b6b83b-f899-4831-860b-265272057928\")>,\n",
       " <selenium.webdriver.remote.webelement.WebElement (session=\"e7809e7e67e38375d1819d4244951d85\", element=\"63de81bc-8ac2-4e92-9a10-0588d20d781e\")>,\n",
       " <selenium.webdriver.remote.webelement.WebElement (session=\"e7809e7e67e38375d1819d4244951d85\", element=\"c7ccf7a3-25d6-4edb-9823-16c69ec4f542\")>,\n",
       " <selenium.webdriver.remote.webelement.WebElement (session=\"e7809e7e67e38375d1819d4244951d85\", element=\"e4b63f45-a862-44e7-b76e-6be046494fbd\")>,\n",
       " <selenium.webdriver.remote.webelement.WebElement (session=\"e7809e7e67e38375d1819d4244951d85\", element=\"a3dcd035-0f2a-442a-a355-bb0ac53bab90\")>,\n",
       " <selenium.webdriver.remote.webelement.WebElement (session=\"e7809e7e67e38375d1819d4244951d85\", element=\"b5d5fcac-3807-4ed7-bd54-348d26eb5072\")>,\n",
       " <selenium.webdriver.remote.webelement.WebElement (session=\"e7809e7e67e38375d1819d4244951d85\", element=\"c8ce4d61-5a35-4a93-91f6-b3f9e49ed07a\")>,\n",
       " <selenium.webdriver.remote.webelement.WebElement (session=\"e7809e7e67e38375d1819d4244951d85\", element=\"c3c8a457-5ad5-44cf-a1f6-284d7e5a2315\")>,\n",
       " <selenium.webdriver.remote.webelement.WebElement (session=\"e7809e7e67e38375d1819d4244951d85\", element=\"b41cbd73-f63b-4920-a2c5-de37eb04a157\")>,\n",
       " <selenium.webdriver.remote.webelement.WebElement (session=\"e7809e7e67e38375d1819d4244951d85\", element=\"e9f8af6c-a73a-4ff4-b7b2-df495071f967\")>,\n",
       " <selenium.webdriver.remote.webelement.WebElement (session=\"e7809e7e67e38375d1819d4244951d85\", element=\"930ef921-8021-4809-bb56-a73fc3cdd7d7\")>,\n",
       " <selenium.webdriver.remote.webelement.WebElement (session=\"e7809e7e67e38375d1819d4244951d85\", element=\"38d15837-f534-41cb-9f5b-0be2f2f6fd28\")>,\n",
       " <selenium.webdriver.remote.webelement.WebElement (session=\"e7809e7e67e38375d1819d4244951d85\", element=\"d9939be2-aacd-4211-9be1-de61f980dc89\")>,\n",
       " <selenium.webdriver.remote.webelement.WebElement (session=\"e7809e7e67e38375d1819d4244951d85\", element=\"72aebee7-c2ca-49eb-971c-1846c0112679\")>,\n",
       " <selenium.webdriver.remote.webelement.WebElement (session=\"e7809e7e67e38375d1819d4244951d85\", element=\"7c5702b0-b876-4396-b246-e5a4e04b8455\")>,\n",
       " <selenium.webdriver.remote.webelement.WebElement (session=\"e7809e7e67e38375d1819d4244951d85\", element=\"aa5df968-0040-4877-a39f-33b199b51793\")>,\n",
       " <selenium.webdriver.remote.webelement.WebElement (session=\"e7809e7e67e38375d1819d4244951d85\", element=\"0391bfc9-3673-4dac-9e0f-123fe6f5b108\")>,\n",
       " <selenium.webdriver.remote.webelement.WebElement (session=\"e7809e7e67e38375d1819d4244951d85\", element=\"a8d4e78d-7898-4b66-92c6-b2f1a1416dd4\")>,\n",
       " <selenium.webdriver.remote.webelement.WebElement (session=\"e7809e7e67e38375d1819d4244951d85\", element=\"4145182c-7335-4fe2-b79e-ae204899a172\")>,\n",
       " <selenium.webdriver.remote.webelement.WebElement (session=\"e7809e7e67e38375d1819d4244951d85\", element=\"90ecd956-bae9-4b83-819d-c85eeacfbb2a\")>,\n",
       " <selenium.webdriver.remote.webelement.WebElement (session=\"e7809e7e67e38375d1819d4244951d85\", element=\"96dadc9d-7789-403d-a167-da57403a6d84\")>,\n",
       " <selenium.webdriver.remote.webelement.WebElement (session=\"e7809e7e67e38375d1819d4244951d85\", element=\"91a0e052-02ab-4952-85f9-f7309f772c9d\")>,\n",
       " <selenium.webdriver.remote.webelement.WebElement (session=\"e7809e7e67e38375d1819d4244951d85\", element=\"a69f5301-ce5f-4606-969c-d0c9073d6ef5\")>,\n",
       " <selenium.webdriver.remote.webelement.WebElement (session=\"e7809e7e67e38375d1819d4244951d85\", element=\"51513281-b149-4dc3-84cf-74dcf64125a9\")>,\n",
       " <selenium.webdriver.remote.webelement.WebElement (session=\"e7809e7e67e38375d1819d4244951d85\", element=\"759dd0d8-fa5b-4841-b23a-98fbe3c46ef7\")>,\n",
       " <selenium.webdriver.remote.webelement.WebElement (session=\"e7809e7e67e38375d1819d4244951d85\", element=\"604757bf-9e97-48ce-8688-54f8a61c55a5\")>,\n",
       " <selenium.webdriver.remote.webelement.WebElement (session=\"e7809e7e67e38375d1819d4244951d85\", element=\"637cc422-7fe7-43c4-b319-8063cee3bff0\")>,\n",
       " <selenium.webdriver.remote.webelement.WebElement (session=\"e7809e7e67e38375d1819d4244951d85\", element=\"678eed57-03f3-4816-b2c3-a0a5feb4b7e2\")>,\n",
       " <selenium.webdriver.remote.webelement.WebElement (session=\"e7809e7e67e38375d1819d4244951d85\", element=\"790a365c-7ad9-4044-a32d-6f1dfacf90a1\")>,\n",
       " <selenium.webdriver.remote.webelement.WebElement (session=\"e7809e7e67e38375d1819d4244951d85\", element=\"50082784-9fc2-433d-8abb-c4aebac4008d\")>,\n",
       " <selenium.webdriver.remote.webelement.WebElement (session=\"e7809e7e67e38375d1819d4244951d85\", element=\"93730550-131a-4a79-9a85-9ea5a0487e28\")>,\n",
       " <selenium.webdriver.remote.webelement.WebElement (session=\"e7809e7e67e38375d1819d4244951d85\", element=\"7520f1d9-0d2c-488b-ad7d-68a0654ecb15\")>,\n",
       " <selenium.webdriver.remote.webelement.WebElement (session=\"e7809e7e67e38375d1819d4244951d85\", element=\"ad2047da-c819-41a6-b9a6-397eaa095545\")>,\n",
       " <selenium.webdriver.remote.webelement.WebElement (session=\"e7809e7e67e38375d1819d4244951d85\", element=\"7c3be32d-bad3-4714-bec6-4933423c160e\")>,\n",
       " <selenium.webdriver.remote.webelement.WebElement (session=\"e7809e7e67e38375d1819d4244951d85\", element=\"57a0438b-70e6-43b7-ab11-bbcadaf16ee2\")>,\n",
       " <selenium.webdriver.remote.webelement.WebElement (session=\"e7809e7e67e38375d1819d4244951d85\", element=\"6a3a542a-8dc5-4e07-acc2-498318bef1cd\")>,\n",
       " <selenium.webdriver.remote.webelement.WebElement (session=\"e7809e7e67e38375d1819d4244951d85\", element=\"a18e97cd-297d-4fc0-956a-ed0acc2ba4c6\")>,\n",
       " <selenium.webdriver.remote.webelement.WebElement (session=\"e7809e7e67e38375d1819d4244951d85\", element=\"9f8d81ac-df3c-46b5-948b-d32e56c86b0a\")>,\n",
       " <selenium.webdriver.remote.webelement.WebElement (session=\"e7809e7e67e38375d1819d4244951d85\", element=\"9784255d-91d3-449f-bd4e-4dae3a1e64d0\")>,\n",
       " <selenium.webdriver.remote.webelement.WebElement (session=\"e7809e7e67e38375d1819d4244951d85\", element=\"30aa3a7e-e1f7-43ad-a8d9-a7e3e79f20b6\")>,\n",
       " <selenium.webdriver.remote.webelement.WebElement (session=\"e7809e7e67e38375d1819d4244951d85\", element=\"b00f6511-bf0d-4e3d-aae0-7e6846109d35\")>,\n",
       " <selenium.webdriver.remote.webelement.WebElement (session=\"e7809e7e67e38375d1819d4244951d85\", element=\"fbdc3831-dd6f-4e25-9a83-4568574ad426\")>,\n",
       " 'This article needs additional citations for verification. Please help improve this article by adding citations to reliable sources. Unsourced material may be challenged and removed.\\nFind sources: \"List of most-viewed YouTube videos\" – news · newspapers · books · scholar · JSTOR (March 2021) (Learn how and when to remove this template message)',\n",
       " 'No. Video name Uploader Views (billions) Publication date Note',\n",
       " '1. \"Baby Shark Dance\"[4] Pinkfong Baby Shark - Kids\\' Songs & Stories 12.3 June 17, 2016 [A]',\n",
       " '2. \"Despacito\"[7] Luis Fonsi 8.1 January 12, 2017 [B]',\n",
       " '3. \"Johny Johny Yes Papa\"[14] LooLoo Kids 6.59 October 8, 2016 [C]',\n",
       " '4. \"Bath Song\"[15] Cocomelon – Nursery Rhymes 5.96 May 2, 2018 [D]',\n",
       " '5. \"Shape of You\"[16] Ed Sheeran 5.89 January 30, 2017 [E]',\n",
       " '6. \"See You Again\"[18] Wiz Khalifa 5.76 April 6, 2015 [F]',\n",
       " '7. \"Phonics Song with Two Words\"[23] ChuChu TV 5.12 March 6, 2014 [G]',\n",
       " '8. \"Wheels on the Bus\"[24] Cocomelon – Nursery Rhymes 4.84 May 24, 2018',\n",
       " '9. \"Uptown Funk\"[25] Mark Ronson 4.82 November 19, 2014 [H]',\n",
       " '10. \"Learning Colors – Colorful Eggs on a Farm\"[26] Miroshka TV 4.8 February 27, 2018 [I]',\n",
       " '11. \"Gangnam Style\"[27] Psy 4.66 July 15, 2012 [J]',\n",
       " '12. \"Masha and the Bear – Recipe for Disaster\"[32] Get Movies 4.52 January 31, 2012 [K]',\n",
       " '13. \"Dame Tu Cosita\"[33] El Chombo 4.21 April 5, 2018',\n",
       " '14. \"Sugar\"[34] Maroon 5 3.81 January 14, 2015',\n",
       " '15. \"Roar\"[35] Katy Perry 3.72 September 5, 2013',\n",
       " '16. \"Counting Stars\"[36] OneRepublic 3.71 May 31, 2013',\n",
       " '17. \"Axel F\"[37] Crazy Frog 3.71 June 16, 2009',\n",
       " '18. \"Sorry\"[38] Justin Bieber 3.62 October 22, 2015',\n",
       " '19. \"Thinking Out Loud\"[39] Ed Sheeran 3.54 October 7, 2014',\n",
       " '20. \"Baa Baa Black Sheep\"[40] Cocomelon – Nursery Rhymes 3.48 June 25, 2018',\n",
       " '21. \"Waka Waka (This Time for Africa)\"[41] Shakira 3.44 June 4, 2010',\n",
       " '22. \"Dark Horse\"[42] Katy Perry 3.43 February 20, 2014',\n",
       " '23. \"Faded\"[43] Alan Walker 3.39 December 3, 2015',\n",
       " '24. \"Let Her Go\"[44] Passenger 3.37 July 25, 2012',\n",
       " '25. \"Girls Like You\"[45] Maroon 5 3.36 May 31, 2018',\n",
       " '26. \"Perfect\"[46] Ed Sheeran 3.35 November 9, 2017',\n",
       " '27. \"Bailando\"[47] Enrique Iglesias 3.32 April 11, 2014',\n",
       " '28. \"Lean On\"[48] Major Lazer 3.32 March 22, 2015',\n",
       " '29. \"Humpty the train on a fruits ride\"[49] Kiddiestv Hindi – Nursery Rhymes & Kids Songs 3.29 January 26, 2018',\n",
       " '30. \"Lakdi Ki Kathi\"[50] Jingle Toons 3.26 June 14, 2018',\n",
       " 'As of January 17, 2023',\n",
       " 'Video name Uploader Views at\\nachievement* Publication date Date achieved Days after\\nupload Days\\nheld Takedown\\ndate Ref Notes',\n",
       " '\"Baby Shark Dance\"[4] Pinkfong Baby Shark - Kids\\' Songs & Stories 7,046,700,000 June 17, 2016 November 2, 2020 1600 825',\n",
       " '\"Despacito\"[7] Luis Fonsi 2,993,700,000 January 12, 2017 August 4, 2017 206 1,186 [62] [B]',\n",
       " '\"See You Again\"[18] Wiz Khalifa 2,894,000,000 April 6, 2015 July 10, 2017 826 25 [19]',\n",
       " '\"Gangnam Style\"⁂[27] Psy 803,700,000 July 15, 2012 November 24, 2012 134 1,689 [28] [J]',\n",
       " '\"Baby\"*[63] Justin Bieber 245,400,000 February 19, 2010 July 16, 2010 149 862 [64] [L]',\n",
       " '\"Bad Romance\"[67] Lady Gaga 178,400,000 November 24, 2009 April 14, 2010 143 93 [68] [M]',\n",
       " '\"Charlie Bit My Finger\"‡[71] HDCYT 128,900,000 May 22, 2007 October 25, 2009 887 171 late July 2021[72] [73]',\n",
       " '\"Evolution of Dance\"[74] Judson Laipply 118,900,000 April 6, 2006 May 2, 2009 1062 176 [75]',\n",
       " '\"Girlfriend\"‡[76][77] RCA Records 92,600,000 February 27, 2007 July 17, 2008 508 289 no data [78] [N]',\n",
       " '\"Evolution of Dance\"[74] Judson Laipply 78,400,000 April 6, 2006 March 15, 2008 651 124 [80]',\n",
       " '\"Music Is My Hot Hot Sex\"‡[81] CLARUSBARTEL72 76,600,000 April 9, 2007 March 1, 2008 327 14 mid-2008[82] [83] [O]',\n",
       " '\"Evolution of Dance\"*[74] Judson Laipply 10,600,000 April 6, 2006 May 19, 2006 16 652 [86] [P]',\n",
       " '\"Pokémon Theme Music Video\"‡[87] Smosh 4,300,000 November 28, 2005 March 12, 2006 105 68 June 2007[88] [89] [Q]',\n",
       " '\"Myspace – The Movie\"‡[92][93] eggtea 2,700,000 January 31, 2006 February 18, 2006 18 22 mid-2006[94] [95]',\n",
       " '\"Phony Photo Booth\"‡[96] mugenized 3,400,000 December 1, 2005 January 21, 2006 50 28 no data [97] [R]',\n",
       " '\"The Chronic of Narnia Rap\"‡[98] youtubedude 2,300,000 December 18, 2005 January 9, 2006 22 12 no data [99]',\n",
       " '\"Ronaldinho: Touch of Gold\"‡*[100] Nikesoccer 255,000 October 21, 2005 October 31, 2005 10 70 no data [101] [S]',\n",
       " '\"I/O Brush\"‡*[103] larfus 247,000 October 5, 2005 October 29, 2005 24 2 no data [104]',\n",
       " '\"Me at the zoo\"[105] jawed 1 April 23, 2005 April 23, 2005 0 189 [106]',\n",
       " 'As of February 5, 2023',\n",
       " 'show\\nvte\\nYouTube',\n",
       " '',\n",
       " '',\n",
       " '',\n",
       " '',\n",
       " '',\n",
       " '',\n",
       " '',\n",
       " '',\n",
       " '',\n",
       " '',\n",
       " '',\n",
       " '',\n",
       " '',\n",
       " 'show\\nvte\\nMost popular social media accounts and posts',\n",
       " '',\n",
       " '']"
      ]
     },
     "execution_count": 21,
     "metadata": {},
     "output_type": "execute_result"
    }
   ],
   "source": [
    "for i in total:\n",
    "    TOTAL.append(i.text)\n",
    "TOTAL"
   ]
  },
  {
   "cell_type": "code",
   "execution_count": 33,
   "id": "703deb8a",
   "metadata": {},
   "outputs": [
    {
     "data": {
      "text/plain": [
       "142"
      ]
     },
     "execution_count": 33,
     "metadata": {},
     "output_type": "execute_result"
    }
   ],
   "source": [
    "TOTAL2=pd.Series(TOTAL)\n",
    "len(TOTAL2)"
   ]
  },
  {
   "cell_type": "code",
   "execution_count": 36,
   "id": "57b8e431",
   "metadata": {},
   "outputs": [],
   "source": [
    "TOTAL3=TOTAL2[105:124]\n",
    "total4=TOTAL3.tolist()\n"
   ]
  },
  {
   "cell_type": "code",
   "execution_count": 37,
   "id": "6ee6e935",
   "metadata": {},
   "outputs": [
    {
     "data": {
      "text/plain": [
       "['\"Baby Shark Dance\"[4] Pinkfong Baby Shark - Kids\\' Songs & Stories 7,046,700,000 June 17, 2016 November 2, 2020 1600 825',\n",
       " '\"Despacito\"[7] Luis Fonsi 2,993,700,000 January 12, 2017 August 4, 2017 206 1,186 [62] [B]',\n",
       " '\"See You Again\"[18] Wiz Khalifa 2,894,000,000 April 6, 2015 July 10, 2017 826 25 [19]',\n",
       " '\"Gangnam Style\"⁂[27] Psy 803,700,000 July 15, 2012 November 24, 2012 134 1,689 [28] [J]',\n",
       " '\"Baby\"*[63] Justin Bieber 245,400,000 February 19, 2010 July 16, 2010 149 862 [64] [L]',\n",
       " '\"Bad Romance\"[67] Lady Gaga 178,400,000 November 24, 2009 April 14, 2010 143 93 [68] [M]',\n",
       " '\"Charlie Bit My Finger\"‡[71] HDCYT 128,900,000 May 22, 2007 October 25, 2009 887 171 late July 2021[72] [73]',\n",
       " '\"Evolution of Dance\"[74] Judson Laipply 118,900,000 April 6, 2006 May 2, 2009 1062 176 [75]',\n",
       " '\"Girlfriend\"‡[76][77] RCA Records 92,600,000 February 27, 2007 July 17, 2008 508 289 no data [78] [N]',\n",
       " '\"Evolution of Dance\"[74] Judson Laipply 78,400,000 April 6, 2006 March 15, 2008 651 124 [80]',\n",
       " '\"Music Is My Hot Hot Sex\"‡[81] CLARUSBARTEL72 76,600,000 April 9, 2007 March 1, 2008 327 14 mid-2008[82] [83] [O]',\n",
       " '\"Evolution of Dance\"*[74] Judson Laipply 10,600,000 April 6, 2006 May 19, 2006 16 652 [86] [P]',\n",
       " '\"Pokémon Theme Music Video\"‡[87] Smosh 4,300,000 November 28, 2005 March 12, 2006 105 68 June 2007[88] [89] [Q]',\n",
       " '\"Myspace – The Movie\"‡[92][93] eggtea 2,700,000 January 31, 2006 February 18, 2006 18 22 mid-2006[94] [95]',\n",
       " '\"Phony Photo Booth\"‡[96] mugenized 3,400,000 December 1, 2005 January 21, 2006 50 28 no data [97] [R]',\n",
       " '\"The Chronic of Narnia Rap\"‡[98] youtubedude 2,300,000 December 18, 2005 January 9, 2006 22 12 no data [99]',\n",
       " '\"Ronaldinho: Touch of Gold\"‡*[100] Nikesoccer 255,000 October 21, 2005 October 31, 2005 10 70 no data [101] [S]',\n",
       " '\"I/O Brush\"‡*[103] larfus 247,000 October 5, 2005 October 29, 2005 24 2 no data [104]',\n",
       " '\"Me at the zoo\"[105] jawed 1 April 23, 2005 April 23, 2005 0 189 [106]']"
      ]
     },
     "execution_count": 37,
     "metadata": {},
     "output_type": "execute_result"
    }
   ],
   "source": [
    "total4"
   ]
  },
  {
   "cell_type": "code",
   "execution_count": 45,
   "id": "8d4e0087",
   "metadata": {},
   "outputs": [
    {
     "data": {
      "text/plain": [
       "['\"Baby Shark Dance\"',\n",
       " '\"Despacito\"',\n",
       " '\"See You Again\"',\n",
       " '\"Gangnam Style\"⁂',\n",
       " '\"Baby\"*',\n",
       " '\"Bad Romance\"',\n",
       " '\"Charlie Bit My Finger\"‡',\n",
       " '\"Evolution of Dance\"',\n",
       " '\"Girlfriend\"‡',\n",
       " '\"Evolution of Dance\"',\n",
       " '\"Music Is My Hot Hot Sex\"‡',\n",
       " '\"Evolution of Dance\"*',\n",
       " '\"Pokémon Theme Music Video\"‡',\n",
       " '\"Myspace – The Movie\"‡',\n",
       " '\"Phony Photo Booth\"‡',\n",
       " '\"The Chronic of Narnia Rap\"‡',\n",
       " '\"Ronaldinho: Touch of Gold\"‡*',\n",
       " '\"I/O Brush\"‡*',\n",
       " '\"Me at the zoo\"']"
      ]
     },
     "execution_count": 45,
     "metadata": {},
     "output_type": "execute_result"
    }
   ],
   "source": [
    "Video_Name = []\n",
    "\n",
    "for i in total4:\n",
    "    sub=i.split('[')\n",
    "    result=sub[0]\n",
    "    Video_Name.append(result)\n",
    "Video_Name    "
   ]
  },
  {
   "cell_type": "code",
   "execution_count": 88,
   "id": "ab300703",
   "metadata": {},
   "outputs": [
    {
     "data": {
      "text/plain": [
       "[\" Pinkfong Baby Shark - Kids' Songs & Stories 7,046,700,000 June 17, 2016 November 2, 2020 1600 825\",\n",
       " ' Luis Fonsi 2,993,700,000 January 12, 2017 August 4, 2017 206 1,186 [62',\n",
       " ' Wiz Khalifa 2,894,000,000 April 6, 2015 July 10, 2017 826 25 [19',\n",
       " ' Psy 803,700,000 July 15, 2012 November 24, 2012 134 1,689 [28',\n",
       " ' Justin Bieber 245,400,000 February 19, 2010 July 16, 2010 149 862 [64',\n",
       " ' Lady Gaga 178,400,000 November 24, 2009 April 14, 2010 143 93 [68',\n",
       " ' HDCYT 128,900,000 May 22, 2007 October 25, 2009 887 171 late July 2021[72',\n",
       " ' Judson Laipply 118,900,000 April 6, 2006 May 2, 2009 1062 176 [75',\n",
       " '[77',\n",
       " ' Judson Laipply 78,400,000 April 6, 2006 March 15, 2008 651 124 [80',\n",
       " ' CLARUSBARTEL72 76,600,000 April 9, 2007 March 1, 2008 327 14 mid-2008[82',\n",
       " ' Judson Laipply 10,600,000 April 6, 2006 May 19, 2006 16 652 [86',\n",
       " ' Smosh 4,300,000 November 28, 2005 March 12, 2006 105 68 June 2007[88',\n",
       " '[93',\n",
       " ' mugenized 3,400,000 December 1, 2005 January 21, 2006 50 28 no data [97',\n",
       " ' youtubedude 2,300,000 December 18, 2005 January 9, 2006 22 12 no data [99',\n",
       " ' Nikesoccer 255,000 October 21, 2005 October 31, 2005 10 70 no data [101',\n",
       " ' larfus 247,000 October 5, 2005 October 29, 2005 24 2 no data [104',\n",
       " ' jawed 1 April 23, 2005 April 23, 2005 0 189 [106']"
      ]
     },
     "execution_count": 88,
     "metadata": {},
     "output_type": "execute_result"
    }
   ],
   "source": [
    "Uploader = []\n",
    "\n",
    "for i in total4:\n",
    "    sub=i.split(']')\n",
    "    result=sub[1]\n",
    "    Uploader.append(result)\n",
    "Uploader"
   ]
  },
  {
   "cell_type": "code",
   "execution_count": 85,
   "id": "d29adf4d",
   "metadata": {},
   "outputs": [
    {
     "data": {
      "text/plain": [
       "[\" Pinkfong Baby Shark - Kids' Songs & Stories 7,046,700,000 June 17, 2016 November 2, 2020 1600 825\",\n",
       " ' Luis Fonsi 2,993,700,000 January 12, 2017 August 4, 2017 206 1,186 [62',\n",
       " ' Wiz Khalifa 2,894,000,000 April 6, 2015 July 10, 2017 826 25 [19',\n",
       " ' Psy 803,700,000 July 15, 2012 November 24, 2012 134 1,689 [28',\n",
       " ' Justin Bieber 245,400,000 February 19, 2010 July 16, 2010 149 862 [64',\n",
       " ' Lady Gaga 178,400,000 November 24, 2009 April 14, 2010 143 93 [68',\n",
       " ' HDCYT 128,900,000 May 22, 2007 October 25, 2009 887 171 late July 2021[72',\n",
       " ' Judson Laipply 118,900,000 April 6, 2006 May 2, 2009 1062 176 [75',\n",
       " '[77',\n",
       " ' Judson Laipply 78,400,000 April 6, 2006 March 15, 2008 651 124 [80',\n",
       " ' CLARUSBARTEL72 76,600,000 April 9, 2007 March 1, 2008 327 14 mid-2008[82',\n",
       " ' Judson Laipply 10,600,000 April 6, 2006 May 19, 2006 16 652 [86',\n",
       " ' Smosh 4,300,000 November 28, 2005 March 12, 2006 105 68 June 2007[88',\n",
       " '[93',\n",
       " ' mugenized 3,400,000 December 1, 2005 January 21, 2006 50 28 no data [97',\n",
       " ' youtubedude 2,300,000 December 18, 2005 January 9, 2006 22 12 no data [99',\n",
       " ' Nikesoccer 255,000 October 21, 2005 October 31, 2005 10 70 no data [101',\n",
       " ' larfus 247,000 October 5, 2005 October 29, 2005 24 2 no data [104',\n",
       " ' jawed 1 April 23, 2005 April 23, 2005 0 189 [106']"
      ]
     },
     "execution_count": 85,
     "metadata": {},
     "output_type": "execute_result"
    }
   ],
   "source": [
    "Uploader1 = []\n",
    "\n",
    "for i in Uploader:\n",
    "    i.replace('', '\\n')\n",
    "    Uploader1.append(i)\n",
    "Uploader1"
   ]
  },
  {
   "cell_type": "code",
   "execution_count": 24,
   "id": "a29154a1",
   "metadata": {},
   "outputs": [
    {
     "data": {
      "text/plain": [
       "['June 17, 2016',\n",
       " 'January 12, 2017',\n",
       " 'October 8, 2016',\n",
       " 'May 2, 2018',\n",
       " 'January 30, 2017',\n",
       " 'April 6, 2015',\n",
       " 'March 6, 2014',\n",
       " 'May 24, 2018',\n",
       " 'November 19, 2014',\n",
       " 'February 27, 2018',\n",
       " 'July 15, 2012',\n",
       " 'January 31, 2012',\n",
       " 'April 5, 2018',\n",
       " 'January 14, 2015',\n",
       " 'September 5, 2013',\n",
       " 'May 31, 2013',\n",
       " 'June 16, 2009',\n",
       " 'October 22, 2015',\n",
       " 'October 7, 2014',\n",
       " 'June 25, 2018',\n",
       " 'June 4, 2010',\n",
       " 'February 20, 2014',\n",
       " 'December 3, 2015',\n",
       " 'July 25, 2012',\n",
       " 'May 31, 2018',\n",
       " 'November 9, 2017',\n",
       " 'April 11, 2014',\n",
       " 'March 22, 2015',\n",
       " 'January 26, 2018',\n",
       " 'June 14, 2018',\n",
       " '7,046,700,000',\n",
       " 'June 17, 2016',\n",
       " 'November 2, 2020',\n",
       " '2,993,700,000',\n",
       " 'January 12, 2017',\n",
       " 'August 4, 2017',\n",
       " '2,894,000,000',\n",
       " 'April 6, 2015',\n",
       " 'July 10, 2017',\n",
       " '803,700,000',\n",
       " 'July 15, 2012',\n",
       " 'November 24, 2012',\n",
       " '245,400,000',\n",
       " 'February 19, 2010',\n",
       " 'July 16, 2010',\n",
       " '178,400,000',\n",
       " 'November 24, 2009',\n",
       " 'April 14, 2010',\n",
       " '128,900,000',\n",
       " 'May 22, 2007',\n",
       " 'October 25, 2009',\n",
       " '118,900,000',\n",
       " 'April 6, 2006',\n",
       " 'May 2, 2009',\n",
       " '92,600,000',\n",
       " 'February 27, 2007',\n",
       " 'July 17, 2008',\n",
       " '78,400,000',\n",
       " 'April 6, 2006',\n",
       " 'March 15, 2008',\n",
       " '76,600,000',\n",
       " 'April 9, 2007',\n",
       " 'March 1, 2008',\n",
       " '10,600,000',\n",
       " 'April 6, 2006',\n",
       " 'May 19, 2006',\n",
       " '4,300,000',\n",
       " 'November 28, 2005',\n",
       " 'March 12, 2006',\n",
       " '2,700,000',\n",
       " 'January 31, 2006',\n",
       " 'February 18, 2006',\n",
       " '3,400,000',\n",
       " 'December 1, 2005',\n",
       " 'January 21, 2006',\n",
       " '2,300,000',\n",
       " 'December 18, 2005',\n",
       " 'January 9, 2006',\n",
       " '255,000',\n",
       " 'October 21, 2005',\n",
       " 'October 31, 2005',\n",
       " '247,000',\n",
       " 'October 5, 2005',\n",
       " 'October 29, 2005',\n",
       " '1',\n",
       " 'April 23, 2005',\n",
       " 'April 23, 2005']"
      ]
     },
     "execution_count": 24,
     "metadata": {},
     "output_type": "execute_result"
    }
   ],
   "source": [
    "TOTAL1=[]\n",
    "\n",
    "total = drivers.find_elements(By.XPATH, '//td[@align=\"right\"]')\n",
    "\n",
    "for i in total:\n",
    "    TOTAL1.append(i.text)\n",
    "TOTAL1"
   ]
  },
  {
   "cell_type": "code",
   "execution_count": 62,
   "id": "fc015d87",
   "metadata": {},
   "outputs": [
    {
     "data": {
      "text/plain": [
       "['7,046,700,000',\n",
       " 'June 17, 2016',\n",
       " 'November 2, 2020',\n",
       " '2,993,700,000',\n",
       " 'January 12, 2017',\n",
       " 'August 4, 2017',\n",
       " '2,894,000,000',\n",
       " 'April 6, 2015',\n",
       " 'July 10, 2017',\n",
       " '803,700,000',\n",
       " 'July 15, 2012',\n",
       " 'November 24, 2012',\n",
       " '245,400,000',\n",
       " 'February 19, 2010',\n",
       " 'July 16, 2010',\n",
       " '178,400,000',\n",
       " 'November 24, 2009',\n",
       " 'April 14, 2010',\n",
       " '128,900,000',\n",
       " 'May 22, 2007',\n",
       " 'October 25, 2009',\n",
       " '118,900,000',\n",
       " 'April 6, 2006',\n",
       " 'May 2, 2009',\n",
       " '92,600,000',\n",
       " 'February 27, 2007',\n",
       " 'July 17, 2008',\n",
       " '78,400,000',\n",
       " 'April 6, 2006',\n",
       " 'March 15, 2008',\n",
       " '76,600,000',\n",
       " 'April 9, 2007',\n",
       " 'March 1, 2008',\n",
       " '10,600,000',\n",
       " 'April 6, 2006',\n",
       " 'May 19, 2006',\n",
       " '4,300,000',\n",
       " 'November 28, 2005',\n",
       " 'March 12, 2006',\n",
       " '2,700,000',\n",
       " 'January 31, 2006',\n",
       " 'February 18, 2006',\n",
       " '3,400,000',\n",
       " 'December 1, 2005',\n",
       " 'January 21, 2006',\n",
       " '2,300,000',\n",
       " 'December 18, 2005',\n",
       " 'January 9, 2006',\n",
       " '255,000',\n",
       " 'October 21, 2005',\n",
       " 'October 31, 2005',\n",
       " '247,000',\n",
       " 'October 5, 2005',\n",
       " 'October 29, 2005',\n",
       " '1',\n",
       " 'April 23, 2005',\n",
       " 'April 23, 2005']"
      ]
     },
     "execution_count": 62,
     "metadata": {},
     "output_type": "execute_result"
    }
   ],
   "source": [
    "filtered = pd.Series(TOTAL1).drop([0,1,2,3,4,5,6,7,8,9,10,11,12,13,14,15,16,17,18,19,20,21,22,23,24,25,26,27,28,29])\n",
    "filtered1=filtered.tolist()\n",
    "filtered1"
   ]
  },
  {
   "cell_type": "code",
   "execution_count": 61,
   "id": "08fd5f91",
   "metadata": {},
   "outputs": [
    {
     "data": {
      "text/plain": [
       "['7,046,700,000',\n",
       " '2,993,700,000',\n",
       " '2,894,000,000',\n",
       " '803,700,000',\n",
       " '245,400,000',\n",
       " '178,400,000',\n",
       " '128,900,000',\n",
       " '118,900,000',\n",
       " '92,600,000',\n",
       " '78,400,000',\n",
       " '76,600,000',\n",
       " '10,600,000',\n",
       " '4,300,000',\n",
       " '2,700,000',\n",
       " '3,400,000',\n",
       " '2,300,000',\n",
       " '255,000',\n",
       " '247,000',\n",
       " '1']"
      ]
     },
     "execution_count": 61,
     "metadata": {},
     "output_type": "execute_result"
    }
   ],
   "source": [
    "View = pd.Series(filtered1).drop([1,2,4,5,7,8,10,11,13,14,16,17,19,20,22,23,25,26,28,29,31,32,34,35,37,38,40,41,43,44,46,47,49,50,52,53,55,56,],axis=0)\n",
    "View1=View.tolist()\n",
    "View1"
   ]
  },
  {
   "cell_type": "code",
   "execution_count": 71,
   "id": "2b714ee7",
   "metadata": {},
   "outputs": [
    {
     "data": {
      "text/plain": [
       "0         June 17, 2016\n",
       "1      November 2, 2020\n",
       "2      January 12, 2017\n",
       "3        August 4, 2017\n",
       "4         April 6, 2015\n",
       "5         July 10, 2017\n",
       "6         July 15, 2012\n",
       "7     November 24, 2012\n",
       "8     February 19, 2010\n",
       "9         July 16, 2010\n",
       "10    November 24, 2009\n",
       "11       April 14, 2010\n",
       "12         May 22, 2007\n",
       "13     October 25, 2009\n",
       "14        April 6, 2006\n",
       "15          May 2, 2009\n",
       "16    February 27, 2007\n",
       "17        July 17, 2008\n",
       "18        April 6, 2006\n",
       "19       March 15, 2008\n",
       "20        April 9, 2007\n",
       "21        March 1, 2008\n",
       "22        April 6, 2006\n",
       "23         May 19, 2006\n",
       "24    November 28, 2005\n",
       "25       March 12, 2006\n",
       "26     January 31, 2006\n",
       "27    February 18, 2006\n",
       "28     December 1, 2005\n",
       "29     January 21, 2006\n",
       "30    December 18, 2005\n",
       "31      January 9, 2006\n",
       "32     October 21, 2005\n",
       "33     October 31, 2005\n",
       "34      October 5, 2005\n",
       "35     October 29, 2005\n",
       "36       April 23, 2005\n",
       "37       April 23, 2005\n",
       "dtype: object"
      ]
     },
     "execution_count": 71,
     "metadata": {},
     "output_type": "execute_result"
    }
   ],
   "source": [
    "other =pd.Series(filtered1).drop([0,3,6,9,12,15,18,21,24,27,30,33,36,39,42,45,48,51,54],axis=0)\n",
    "other1=other.tolist()\n",
    "other2=pd.Series(other1)\n",
    "other2"
   ]
  },
  {
   "cell_type": "code",
   "execution_count": 77,
   "id": "2177b652",
   "metadata": {},
   "outputs": [
    {
     "data": {
      "text/plain": [
       "1      November 2, 2020\n",
       "3        August 4, 2017\n",
       "5         July 10, 2017\n",
       "7     November 24, 2012\n",
       "9         July 16, 2010\n",
       "11       April 14, 2010\n",
       "13     October 25, 2009\n",
       "15          May 2, 2009\n",
       "17        July 17, 2008\n",
       "19       March 15, 2008\n",
       "21        March 1, 2008\n",
       "23         May 19, 2006\n",
       "25       March 12, 2006\n",
       "27    February 18, 2006\n",
       "29     January 21, 2006\n",
       "31      January 9, 2006\n",
       "33     October 31, 2005\n",
       "35     October 29, 2005\n",
       "37       April 23, 2005\n",
       "dtype: object"
      ]
     },
     "execution_count": 77,
     "metadata": {},
     "output_type": "execute_result"
    }
   ],
   "source": [
    "Achieved_Date = other2.drop([0,2,4,6,8,10,12,14,16,18,20,22,24,26,28,30,32,34,36])\n",
    "Achieved_Date"
   ]
  },
  {
   "cell_type": "code",
   "execution_count": 81,
   "id": "7a5f8575",
   "metadata": {},
   "outputs": [
    {
     "data": {
      "text/plain": [
       "0         June 17, 2016\n",
       "2      January 12, 2017\n",
       "4         April 6, 2015\n",
       "6         July 15, 2012\n",
       "8     February 19, 2010\n",
       "10    November 24, 2009\n",
       "12         May 22, 2007\n",
       "14        April 6, 2006\n",
       "16    February 27, 2007\n",
       "18        April 6, 2006\n",
       "20        April 9, 2007\n",
       "22        April 6, 2006\n",
       "24    November 28, 2005\n",
       "26     January 31, 2006\n",
       "28     December 1, 2005\n",
       "30    December 18, 2005\n",
       "32     October 21, 2005\n",
       "34      October 5, 2005\n",
       "36       April 23, 2005\n",
       "dtype: object"
      ]
     },
     "execution_count": 81,
     "metadata": {},
     "output_type": "execute_result"
    }
   ],
   "source": [
    "Publication_Date = other2.drop([1,3,5,7,9,11,13,15,17,19,21,23,25,27,29,31,33,35,37], axis=0)\n",
    "Publication_Date"
   ]
  },
  {
   "cell_type": "code",
   "execution_count": null,
   "id": "38b58caf",
   "metadata": {},
   "outputs": [],
   "source": []
  },
  {
   "cell_type": "code",
   "execution_count": null,
   "id": "ddbeea61",
   "metadata": {},
   "outputs": [],
   "source": []
  }
 ],
 "metadata": {
  "kernelspec": {
   "display_name": "Python 3 (ipykernel)",
   "language": "python",
   "name": "python3"
  },
  "language_info": {
   "codemirror_mode": {
    "name": "ipython",
    "version": 3
   },
   "file_extension": ".py",
   "mimetype": "text/x-python",
   "name": "python",
   "nbconvert_exporter": "python",
   "pygments_lexer": "ipython3",
   "version": "3.9.13"
  }
 },
 "nbformat": 4,
 "nbformat_minor": 5
}
