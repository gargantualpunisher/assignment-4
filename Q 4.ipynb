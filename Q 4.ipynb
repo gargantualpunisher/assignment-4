{
 "cells": [
  {
   "cell_type": "code",
   "execution_count": 20,
   "id": "2faecf3c",
   "metadata": {},
   "outputs": [],
   "source": [
    "import selenium\n",
    "import pandas as pd\n",
    "from selenium import webdriver\n",
    "import warnings\n",
    "warnings.filterwarnings('ignore')\n",
    "from selenium.common.exceptions import StaleElementReferenceException, NoSuchElementException\n",
    "from selenium.webdriver.common.by import By\n",
    "import time\n",
    "from selenium.webdriver.chrome.service import Service\n",
    "import requests\n",
    "from bs4 import BeautifulSoup"
   ]
  },
  {
   "cell_type": "code",
   "execution_count": 26,
   "id": "d8344368",
   "metadata": {},
   "outputs": [],
   "source": [
    "drivers = webdriver.Chrome(r\"E:\\New folder\\chromedriver_win32\\chromedriver.exe\")\n",
    "\n",
    "drivers.get('https://github.com/')"
   ]
  },
  {
   "cell_type": "code",
   "execution_count": 27,
   "id": "b7c3697d",
   "metadata": {},
   "outputs": [],
   "source": [
    "button = drivers.find_element(By.XPATH, \"/html/body/div[1]/div[1]/header/div/div[2]/div/nav/ul/li[3]/button\")\n",
    "button.click()"
   ]
  },
  {
   "cell_type": "code",
   "execution_count": 28,
   "id": "eb7f69af",
   "metadata": {},
   "outputs": [],
   "source": [
    "button = drivers.find_element(By.XPATH, \"/html/body/div[1]/div[1]/header/div/div[2]/div/nav/ul/li[3]/div/ul[3]/li[3]/a\")\n",
    "button.click()"
   ]
  },
  {
   "cell_type": "code",
   "execution_count": null,
   "id": "96b83eb8",
   "metadata": {},
   "outputs": [],
   "source": []
  },
  {
   "cell_type": "code",
   "execution_count": 29,
   "id": "500afcee",
   "metadata": {},
   "outputs": [
    {
     "data": {
      "text/plain": [
       "['Trending',\n",
       " 'zhayujie / chatgpt-on-wechat',\n",
       " 'PlexPt / awesome-chatgpt-prompts-zh',\n",
       " 'rustdesk / rustdesk',\n",
       " 'f / awesome-chatgpt-prompts',\n",
       " 'sashabaranov / go-gpt3',\n",
       " 'openai / gpt-2',\n",
       " 'eliaszon / Programmers-Overseas-Job-Interview-Handbook',\n",
       " 'AutumnWhj / ChatGPT-wechat-bot',\n",
       " 'cisagov / ESXiArgs-Recover',\n",
       " 'fuergaosi233 / wechat-chatgpt',\n",
       " 'obi1kenobi / trustfall',\n",
       " 'c4s73r / NetworkNightmare',\n",
       " 'openai / openai-cookbook',\n",
       " 'YuxinWenRick / hard-prompts-made-easy',\n",
       " 'acikkaynak / deprem-io-frontend',\n",
       " 'acikkaynak / yardim-agi-flutter',\n",
       " 'lencx / ChatGPT',\n",
       " 'casey / ord',\n",
       " 'PlexPt / chatgpt-java',\n",
       " 'MortezaBashsiz / CFScanner',\n",
       " 'acikkaynak / deprem-yardim-backend',\n",
       " 'BlinkDL / RWKV-LM',\n",
       " 'Atri-Labs / atrilabs-engine',\n",
       " 'openai / gpt-3',\n",
       " 'devfullcycle / imersao12']"
      ]
     },
     "execution_count": 29,
     "metadata": {},
     "output_type": "execute_result"
    }
   ],
   "source": [
    "Repository = []\n",
    "repository = drivers.find_elements(By.TAG_NAME, \"h1\")\n",
    "\n",
    "\n",
    "for i in repository:\n",
    "    Repository.append(i.text)\n",
    "    \n",
    "Repository"
   ]
  },
  {
   "cell_type": "code",
   "execution_count": 30,
   "id": "55d30d72",
   "metadata": {},
   "outputs": [
    {
     "data": {
      "text/plain": [
       "25"
      ]
     },
     "execution_count": 30,
     "metadata": {},
     "output_type": "execute_result"
    }
   ],
   "source": [
    "Repository3 = []\n",
    "\n",
    "for i in Repository:\n",
    "    a = i.split('/')\n",
    "    result=a[0]\n",
    "    Repository3.append(result)\n",
    "Repository4=pd.Series(Repository3).drop([0])\n",
    "repo = Repository4.tolist()\n",
    "len(repo)"
   ]
  },
  {
   "cell_type": "code",
   "execution_count": 31,
   "id": "d5e368ae",
   "metadata": {},
   "outputs": [
    {
     "data": {
      "text/plain": [
       "23"
      ]
     },
     "execution_count": 31,
     "metadata": {},
     "output_type": "execute_result"
    }
   ],
   "source": [
    "Description = []\n",
    "description = drivers.find_elements(By.TAG_NAME, \"p\")\n",
    "\n",
    "\n",
    "for i in description:\n",
    "    Description.append(i.text)\n",
    "    \n",
    "Description1=pd.Series(Description).drop([0])\n",
    "Description2=Description1.tolist()\n",
    "len(Description2)"
   ]
  },
  {
   "cell_type": "code",
   "execution_count": 32,
   "id": "644a03bb",
   "metadata": {},
   "outputs": [
    {
     "data": {
      "text/plain": [
       "21"
      ]
     },
     "execution_count": 32,
     "metadata": {},
     "output_type": "execute_result"
    }
   ],
   "source": [
    "Language = []\n",
    "language = drivers.find_elements(By.XPATH, '//span[@class=\"d-inline-block ml-0 mr-3\"]')\n",
    "\n",
    "\n",
    "for i in language:\n",
    "    Language.append(i.text)\n",
    "    \n",
    "len(Language)"
   ]
  },
  {
   "cell_type": "code",
   "execution_count": null,
   "id": "2a0ff6c9",
   "metadata": {},
   "outputs": [],
   "source": []
  },
  {
   "cell_type": "code",
   "execution_count": 33,
   "id": "2e08eee3",
   "metadata": {},
   "outputs": [
    {
     "data": {
      "text/plain": [
       "['1,917',\n",
       " '351',\n",
       " '5,266',\n",
       " '2,149',\n",
       " '37,190',\n",
       " '3,357',\n",
       " '23,511',\n",
       " '2,383',\n",
       " '491',\n",
       " '89',\n",
       " '16,650',\n",
       " '4,218',\n",
       " '2,019',\n",
       " '115',\n",
       " '2,412',\n",
       " '525',\n",
       " '202',\n",
       " '26',\n",
       " '7,251',\n",
       " '1,868',\n",
       " '1,193',\n",
       " '36',\n",
       " '189',\n",
       " '21',\n",
       " '12,141',\n",
       " '1,375',\n",
       " '198',\n",
       " '16',\n",
       " '32',\n",
       " '17',\n",
       " '155',\n",
       " '63',\n",
       " '12,679',\n",
       " '1,051',\n",
       " '734',\n",
       " '104',\n",
       " '577',\n",
       " '107',\n",
       " '220',\n",
       " '51',\n",
       " '364',\n",
       " '90',\n",
       " '1,407',\n",
       " '151',\n",
       " '3,161',\n",
       " '118',\n",
       " '13,214',\n",
       " '1,784',\n",
       " '108',\n",
       " '61']"
      ]
     },
     "execution_count": 33,
     "metadata": {},
     "output_type": "execute_result"
    }
   ],
   "source": [
    "Count = []\n",
    "count = drivers.find_elements(By.XPATH, '//a[@class=\"Link--muted d-inline-block mr-3\"]')\n",
    "\n",
    "\n",
    "for i in count:\n",
    "    Count.append(i.text)\n",
    "Count"
   ]
  },
  {
   "cell_type": "code",
   "execution_count": 14,
   "id": "fbfe4766",
   "metadata": {
    "scrolled": true
   },
   "outputs": [
    {
     "data": {
      "text/plain": [
       "0      1,911\n",
       "1        350\n",
       "2      5,262\n",
       "3      2,147\n",
       "4     37,185\n",
       "5      3,356\n",
       "6     23,504\n",
       "7      2,383\n",
       "8        490\n",
       "9         89\n",
       "10    16,647\n",
       "11     4,218\n",
       "12     2,018\n",
       "13       115\n",
       "14     2,412\n",
       "15       525\n",
       "16       201\n",
       "17        26\n",
       "18     7,249\n",
       "19     1,868\n",
       "20     1,189\n",
       "21        36\n",
       "22       189\n",
       "23        21\n",
       "24    12,140\n",
       "25     1,375\n",
       "26       197\n",
       "27        16\n",
       "28        32\n",
       "29        17\n",
       "30       155\n",
       "31        63\n",
       "32    12,669\n",
       "33     1,050\n",
       "34       731\n",
       "35       104\n",
       "36       576\n",
       "37       107\n",
       "38       220\n",
       "39        51\n",
       "40       363\n",
       "41        90\n",
       "42     1,404\n",
       "43       151\n",
       "44     3,160\n",
       "45       118\n",
       "46    13,212\n",
       "47     1,784\n",
       "48       108\n",
       "49        61\n",
       "dtype: object"
      ]
     },
     "execution_count": 14,
     "metadata": {},
     "output_type": "execute_result"
    }
   ],
   "source": [
    "data = pd.Series(Count)\n",
    "data"
   ]
  },
  {
   "cell_type": "code",
   "execution_count": 15,
   "id": "e09248bd",
   "metadata": {},
   "outputs": [
    {
     "data": {
      "text/plain": [
       "0      1,911\n",
       "2      5,262\n",
       "4     37,185\n",
       "7      2,383\n",
       "8        490\n",
       "10    16,647\n",
       "12     2,018\n",
       "14     2,412\n",
       "16       201\n",
       "18     7,249\n",
       "21        36\n",
       "22       189\n",
       "24    12,140\n",
       "26       197\n",
       "28        32\n",
       "30       155\n",
       "32    12,669\n",
       "34       731\n",
       "36       576\n",
       "38       220\n",
       "40       363\n",
       "42     1,404\n",
       "44     3,160\n",
       "46    13,212\n",
       "49        61\n",
       "dtype: object"
      ]
     },
     "execution_count": 15,
     "metadata": {},
     "output_type": "execute_result"
    }
   ],
   "source": [
    "data3=pd.Series(data).drop([1,3,5,6,9,11,13,15,17,19,20,23,25,27,29,31,33,35,37,39,41,43,45,47,48])\n",
    "data3\n"
   ]
  },
  {
   "cell_type": "code",
   "execution_count": 34,
   "id": "c474a5fe",
   "metadata": {},
   "outputs": [
    {
     "data": {
      "text/plain": [
       "25"
      ]
     },
     "execution_count": 34,
     "metadata": {},
     "output_type": "execute_result"
    }
   ],
   "source": [
    "Contributor=data3.tolist()\n",
    "\n",
    "\n",
    "len(Contributor)"
   ]
  },
  {
   "cell_type": "code",
   "execution_count": 83,
   "id": "661ac303",
   "metadata": {},
   "outputs": [
    {
     "ename": "ValueError",
     "evalue": "Length of values (26) does not match length of index (25)",
     "output_type": "error",
     "traceback": [
      "\u001b[1;31m---------------------------------------------------------------------------\u001b[0m",
      "\u001b[1;31mValueError\u001b[0m                                Traceback (most recent call last)",
      "\u001b[1;32m~\\AppData\\Local\\Temp\\ipykernel_16812\\1995467719.py\u001b[0m in \u001b[0;36m<module>\u001b[1;34m\u001b[0m\n\u001b[0;32m      3\u001b[0m \u001b[1;33m\u001b[0m\u001b[0m\n\u001b[0;32m      4\u001b[0m \u001b[0mfinal\u001b[0m\u001b[1;33m[\u001b[0m\u001b[1;34m'Repository'\u001b[0m\u001b[1;33m]\u001b[0m\u001b[1;33m=\u001b[0m\u001b[0mRepository2\u001b[0m\u001b[1;33m\u001b[0m\u001b[1;33m\u001b[0m\u001b[0m\n\u001b[1;32m----> 5\u001b[1;33m \u001b[0mfinal\u001b[0m\u001b[1;33m[\u001b[0m\u001b[1;34m'Description'\u001b[0m\u001b[1;33m]\u001b[0m\u001b[1;33m=\u001b[0m\u001b[0mDescription\u001b[0m\u001b[1;33m\u001b[0m\u001b[1;33m\u001b[0m\u001b[0m\n\u001b[0m\u001b[0;32m      6\u001b[0m \u001b[0mfinal\u001b[0m\u001b[1;33m[\u001b[0m\u001b[1;34m'Language'\u001b[0m\u001b[1;33m]\u001b[0m\u001b[1;33m=\u001b[0m\u001b[0mLanguage\u001b[0m\u001b[1;33m\u001b[0m\u001b[1;33m\u001b[0m\u001b[0m\n\u001b[0;32m      7\u001b[0m \u001b[0mfinal\u001b[0m\u001b[1;33m[\u001b[0m\u001b[1;34m'Contributor'\u001b[0m\u001b[1;33m]\u001b[0m\u001b[1;33m=\u001b[0m\u001b[0mContributor\u001b[0m\u001b[1;33m\u001b[0m\u001b[1;33m\u001b[0m\u001b[0m\n",
      "\u001b[1;32m~\\anaconda3\\lib\\site-packages\\pandas\\core\\frame.py\u001b[0m in \u001b[0;36m__setitem__\u001b[1;34m(self, key, value)\u001b[0m\n\u001b[0;32m   3653\u001b[0m         \u001b[1;32melse\u001b[0m\u001b[1;33m:\u001b[0m\u001b[1;33m\u001b[0m\u001b[1;33m\u001b[0m\u001b[0m\n\u001b[0;32m   3654\u001b[0m             \u001b[1;31m# set column\u001b[0m\u001b[1;33m\u001b[0m\u001b[1;33m\u001b[0m\u001b[0m\n\u001b[1;32m-> 3655\u001b[1;33m             \u001b[0mself\u001b[0m\u001b[1;33m.\u001b[0m\u001b[0m_set_item\u001b[0m\u001b[1;33m(\u001b[0m\u001b[0mkey\u001b[0m\u001b[1;33m,\u001b[0m \u001b[0mvalue\u001b[0m\u001b[1;33m)\u001b[0m\u001b[1;33m\u001b[0m\u001b[1;33m\u001b[0m\u001b[0m\n\u001b[0m\u001b[0;32m   3656\u001b[0m \u001b[1;33m\u001b[0m\u001b[0m\n\u001b[0;32m   3657\u001b[0m     \u001b[1;32mdef\u001b[0m \u001b[0m_setitem_slice\u001b[0m\u001b[1;33m(\u001b[0m\u001b[0mself\u001b[0m\u001b[1;33m,\u001b[0m \u001b[0mkey\u001b[0m\u001b[1;33m:\u001b[0m \u001b[0mslice\u001b[0m\u001b[1;33m,\u001b[0m \u001b[0mvalue\u001b[0m\u001b[1;33m)\u001b[0m\u001b[1;33m:\u001b[0m\u001b[1;33m\u001b[0m\u001b[1;33m\u001b[0m\u001b[0m\n",
      "\u001b[1;32m~\\anaconda3\\lib\\site-packages\\pandas\\core\\frame.py\u001b[0m in \u001b[0;36m_set_item\u001b[1;34m(self, key, value)\u001b[0m\n\u001b[0;32m   3830\u001b[0m         \u001b[0mensure\u001b[0m \u001b[0mhomogeneity\u001b[0m\u001b[1;33m.\u001b[0m\u001b[1;33m\u001b[0m\u001b[1;33m\u001b[0m\u001b[0m\n\u001b[0;32m   3831\u001b[0m         \"\"\"\n\u001b[1;32m-> 3832\u001b[1;33m         \u001b[0mvalue\u001b[0m \u001b[1;33m=\u001b[0m \u001b[0mself\u001b[0m\u001b[1;33m.\u001b[0m\u001b[0m_sanitize_column\u001b[0m\u001b[1;33m(\u001b[0m\u001b[0mvalue\u001b[0m\u001b[1;33m)\u001b[0m\u001b[1;33m\u001b[0m\u001b[1;33m\u001b[0m\u001b[0m\n\u001b[0m\u001b[0;32m   3833\u001b[0m \u001b[1;33m\u001b[0m\u001b[0m\n\u001b[0;32m   3834\u001b[0m         if (\n",
      "\u001b[1;32m~\\anaconda3\\lib\\site-packages\\pandas\\core\\frame.py\u001b[0m in \u001b[0;36m_sanitize_column\u001b[1;34m(self, value)\u001b[0m\n\u001b[0;32m   4536\u001b[0m \u001b[1;33m\u001b[0m\u001b[0m\n\u001b[0;32m   4537\u001b[0m         \u001b[1;32mif\u001b[0m \u001b[0mis_list_like\u001b[0m\u001b[1;33m(\u001b[0m\u001b[0mvalue\u001b[0m\u001b[1;33m)\u001b[0m\u001b[1;33m:\u001b[0m\u001b[1;33m\u001b[0m\u001b[1;33m\u001b[0m\u001b[0m\n\u001b[1;32m-> 4538\u001b[1;33m             \u001b[0mcom\u001b[0m\u001b[1;33m.\u001b[0m\u001b[0mrequire_length_match\u001b[0m\u001b[1;33m(\u001b[0m\u001b[0mvalue\u001b[0m\u001b[1;33m,\u001b[0m \u001b[0mself\u001b[0m\u001b[1;33m.\u001b[0m\u001b[0mindex\u001b[0m\u001b[1;33m)\u001b[0m\u001b[1;33m\u001b[0m\u001b[1;33m\u001b[0m\u001b[0m\n\u001b[0m\u001b[0;32m   4539\u001b[0m         \u001b[1;32mreturn\u001b[0m \u001b[0msanitize_array\u001b[0m\u001b[1;33m(\u001b[0m\u001b[0mvalue\u001b[0m\u001b[1;33m,\u001b[0m \u001b[0mself\u001b[0m\u001b[1;33m.\u001b[0m\u001b[0mindex\u001b[0m\u001b[1;33m,\u001b[0m \u001b[0mcopy\u001b[0m\u001b[1;33m=\u001b[0m\u001b[1;32mTrue\u001b[0m\u001b[1;33m,\u001b[0m \u001b[0mallow_2d\u001b[0m\u001b[1;33m=\u001b[0m\u001b[1;32mTrue\u001b[0m\u001b[1;33m)\u001b[0m\u001b[1;33m\u001b[0m\u001b[1;33m\u001b[0m\u001b[0m\n\u001b[0;32m   4540\u001b[0m \u001b[1;33m\u001b[0m\u001b[0m\n",
      "\u001b[1;32m~\\anaconda3\\lib\\site-packages\\pandas\\core\\common.py\u001b[0m in \u001b[0;36mrequire_length_match\u001b[1;34m(data, index)\u001b[0m\n\u001b[0;32m    555\u001b[0m     \"\"\"\n\u001b[0;32m    556\u001b[0m     \u001b[1;32mif\u001b[0m \u001b[0mlen\u001b[0m\u001b[1;33m(\u001b[0m\u001b[0mdata\u001b[0m\u001b[1;33m)\u001b[0m \u001b[1;33m!=\u001b[0m \u001b[0mlen\u001b[0m\u001b[1;33m(\u001b[0m\u001b[0mindex\u001b[0m\u001b[1;33m)\u001b[0m\u001b[1;33m:\u001b[0m\u001b[1;33m\u001b[0m\u001b[1;33m\u001b[0m\u001b[0m\n\u001b[1;32m--> 557\u001b[1;33m         raise ValueError(\n\u001b[0m\u001b[0;32m    558\u001b[0m             \u001b[1;34m\"Length of values \"\u001b[0m\u001b[1;33m\u001b[0m\u001b[1;33m\u001b[0m\u001b[0m\n\u001b[0;32m    559\u001b[0m             \u001b[1;34mf\"({len(data)}) \"\u001b[0m\u001b[1;33m\u001b[0m\u001b[1;33m\u001b[0m\u001b[0m\n",
      "\u001b[1;31mValueError\u001b[0m: Length of values (26) does not match length of index (25)"
     ]
    }
   ],
   "source": [
    "final=pd.DataFrame()\n",
    "\n",
    "\n",
    "final['Repository']=Repository2\n",
    "final['Description']=Description\n",
    "final['Language']=Language\n",
    "final['Contributor']=Contributor\n"
   ]
  },
  {
   "cell_type": "code",
   "execution_count": null,
   "id": "907a5614",
   "metadata": {},
   "outputs": [],
   "source": []
  },
  {
   "cell_type": "code",
   "execution_count": null,
   "id": "f95bf436",
   "metadata": {},
   "outputs": [],
   "source": []
  },
  {
   "cell_type": "code",
   "execution_count": null,
   "id": "21895c3a",
   "metadata": {},
   "outputs": [],
   "source": []
  },
  {
   "cell_type": "code",
   "execution_count": null,
   "id": "042d3a47",
   "metadata": {},
   "outputs": [],
   "source": [
    "\n",
    "    "
   ]
  },
  {
   "cell_type": "code",
   "execution_count": null,
   "id": "c8cf490b",
   "metadata": {},
   "outputs": [],
   "source": []
  },
  {
   "cell_type": "code",
   "execution_count": null,
   "id": "5dc1fcef",
   "metadata": {},
   "outputs": [],
   "source": []
  },
  {
   "cell_type": "code",
   "execution_count": null,
   "id": "ff905707",
   "metadata": {},
   "outputs": [],
   "source": []
  }
 ],
 "metadata": {
  "kernelspec": {
   "display_name": "Python 3 (ipykernel)",
   "language": "python",
   "name": "python3"
  },
  "language_info": {
   "codemirror_mode": {
    "name": "ipython",
    "version": 3
   },
   "file_extension": ".py",
   "mimetype": "text/x-python",
   "name": "python",
   "nbconvert_exporter": "python",
   "pygments_lexer": "ipython3",
   "version": "3.9.13"
  }
 },
 "nbformat": 4,
 "nbformat_minor": 5
}
