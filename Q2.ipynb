{
 "cells": [
  {
   "cell_type": "code",
   "execution_count": 6,
   "id": "2f172b7e",
   "metadata": {},
   "outputs": [],
   "source": [
    "import selenium\n",
    "import pandas as pd\n",
    "from selenium import webdriver\n",
    "import warnings\n",
    "warnings.filterwarnings('ignore')\n",
    "from selenium.common.exceptions import StaleElementReferenceException, NoSuchElementException\n",
    "from selenium.webdriver.common.by import By\n",
    "import time\n",
    "from selenium.webdriver.chrome.service import Service\n",
    "import requests\n",
    "from bs4 import BeautifulSoup"
   ]
  },
  {
   "cell_type": "code",
   "execution_count": 7,
   "id": "8d845d6b",
   "metadata": {},
   "outputs": [],
   "source": [
    "drivers = webdriver.Chrome(r\"E:\\New folder\\chromedriver_win32\\chromedriver.exe\")\n",
    "\n",
    "drivers.get('https://www.bcci.tv/')\n",
    "\n"
   ]
  },
  {
   "cell_type": "code",
   "execution_count": 8,
   "id": "5ae15865",
   "metadata": {},
   "outputs": [],
   "source": [
    "button = drivers.find_element(By.XPATH, \"/html/body/nav/div[1]/div[2]/ul[1]/li[2]/a\")\n",
    "button.click()"
   ]
  },
  {
   "cell_type": "code",
   "execution_count": 9,
   "id": "726fc328",
   "metadata": {},
   "outputs": [],
   "source": [
    "button = drivers.find_element(By.XPATH, \"/html/body/div[2]/div[2]/div/div/div/div[2]/div[2]/div/div[3]/div/div[1]\")\n",
    "button.click()\n",
    "\n",
    "\n"
   ]
  },
  {
   "cell_type": "code",
   "execution_count": 10,
   "id": "e09b92cd",
   "metadata": {},
   "outputs": [],
   "source": [
    "button1 = drivers.find_element(By.XPATH, \"/html/body/div[2]/div[2]/div/div/div/div[2]/div[2]/div/div[3]/div/div[2]/div[3]\")\n",
    "button1.click()\n",
    "\n",
    "\n"
   ]
  },
  {
   "cell_type": "code",
   "execution_count": 13,
   "id": "e615d12e",
   "metadata": {},
   "outputs": [
    {
     "data": {
      "text/plain": [
       "['Wankhede Stadium,']"
      ]
     },
     "execution_count": 13,
     "metadata": {},
     "output_type": "execute_result"
    }
   ],
   "source": [
    "Stadium = []\n",
    "stadium= drivers.find_elements(By.XPATH, '//*[@id=\"fixtures\"]/div[3]/div/div[1]/div/div[4]/div/span[2]')\n",
    "\n",
    "\n",
    "for i in stadium:\n",
    "    Stadium.append(i.text)\n",
    "    \n",
    "Stadium"
   ]
  },
  {
   "cell_type": "code",
   "execution_count": 14,
   "id": "36e2d3f0",
   "metadata": {},
   "outputs": [
    {
     "data": {
      "text/plain": [
       "['AUSTRALIA TOUR OF INDIA ODI SERIES 2022-23']"
      ]
     },
     "execution_count": 14,
     "metadata": {},
     "output_type": "execute_result"
    }
   ],
   "source": [
    "Title = []\n",
    "title= drivers.find_elements(By.XPATH, '//*[@id=\"fixtures\"]/div[3]/div/div[1]/div/div[1]/h5[2]/span')\n",
    "\n",
    "\n",
    "for i in title:\n",
    "    Title.append(i.text)\n",
    "    \n",
    "Title\n",
    "\n",
    "\n",
    "\n"
   ]
  },
  {
   "cell_type": "code",
   "execution_count": 15,
   "id": "74bc8d46",
   "metadata": {},
   "outputs": [
    {
     "data": {
      "text/plain": [
       "['17 MAR 2023']"
      ]
     },
     "execution_count": 15,
     "metadata": {},
     "output_type": "execute_result"
    }
   ],
   "source": [
    "Date = []\n",
    "date= drivers.find_elements(By.XPATH, '//*[@id=\"fixtures\"]/div[3]/div/div[1]/div/div[1]/div/div[1]/h5')\n",
    "\n",
    "\n",
    "for i in date:\n",
    "    Date.append(i.text)\n",
    "    \n",
    "Date"
   ]
  },
  {
   "cell_type": "code",
   "execution_count": 16,
   "id": "7b1655a1",
   "metadata": {},
   "outputs": [
    {
     "data": {
      "text/plain": [
       "['1:30 PM IST']"
      ]
     },
     "execution_count": 16,
     "metadata": {},
     "output_type": "execute_result"
    }
   ],
   "source": [
    "Time = []\n",
    "time= drivers.find_elements(By.XPATH, '//*[@id=\"fixtures\"]/div[3]/div/div[1]/div/div[1]/div/div[2]/h5')\n",
    "\n",
    "\n",
    "for i in time:\n",
    "    Time.append(i.text)\n",
    "    \n",
    "Time"
   ]
  },
  {
   "cell_type": "code",
   "execution_count": 19,
   "id": "49ce8d13",
   "metadata": {},
   "outputs": [],
   "source": [
    "button1 = drivers.find_element(By.XPATH, \"/html/body/div[2]/div[2]/div/div/div/div[2]/div[3]/div/div[1]/div/div[4]/a\")\n",
    "button1.click()\n"
   ]
  },
  {
   "cell_type": "code",
   "execution_count": 20,
   "id": "f5fd15f5",
   "metadata": {},
   "outputs": [
    {
     "data": {
      "text/plain": [
       "['India VS Australia']"
      ]
     },
     "execution_count": 20,
     "metadata": {},
     "output_type": "execute_result"
    }
   ],
   "source": [
    "Match = []\n",
    "match= drivers.find_elements(By.XPATH, '//*[@id=\"rightPanel\"]/div/div/ul/li[2]/span[2]')\n",
    "\n",
    "\n",
    "for i in match:\n",
    "    Match.append(i.text)\n",
    "    \n",
    "Match"
   ]
  },
  {
   "cell_type": "code",
   "execution_count": null,
   "id": "cfd1e54d",
   "metadata": {},
   "outputs": [],
   "source": []
  }
 ],
 "metadata": {
  "kernelspec": {
   "display_name": "Python 3 (ipykernel)",
   "language": "python",
   "name": "python3"
  },
  "language_info": {
   "codemirror_mode": {
    "name": "ipython",
    "version": 3
   },
   "file_extension": ".py",
   "mimetype": "text/x-python",
   "name": "python",
   "nbconvert_exporter": "python",
   "pygments_lexer": "ipython3",
   "version": "3.9.13"
  }
 },
 "nbformat": 4,
 "nbformat_minor": 5
}
